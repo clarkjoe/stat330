{
 "cells": [
  {
   "cell_type": "markdown",
   "metadata": {},
   "source": [
    "# Joseph Clark\n",
    "## Stat 330-002\n",
    "## EDA #2"
   ]
  },
  {
   "cell_type": "markdown",
   "metadata": {},
   "source": [
    "- 1. The Marketing team wants to know the relation between the amount of advertisement in a magazine and the revenue generated. Seeing that advertising is a major portion of the marketing discipline, knowing the relation between amount of advertisement and generated revenue holds value. It is much easier to add advertisement then improve the quality of the advertisement. The exclusion of a measurement for quality of the advertisement must be noted. There could be external factors towards revenue generated that is not be considered. For the purpose of the analysis, only the amount advertisement will be used to predict generated revenue. For the purpose of doing more with the analysis, a multi-factor regression could be applied to include the brand of the maganize along with the amount of advertisement.\n",
    "\n",
    "- 2. The data suggests that the relationship between vehicle weight and mpg is linear. As the amount of pages increase the amount of revenue also increases. However, linearity decreases as the number of pages increases. There is more variance, which could denote a separate linear (or non-linear) model than the less variant data with less pages. Outliers appear to be outside the expected variance of a linear relationship. There  There appears to be few outliers, and the outliers that do exist appear to be within reasonable variance. Also, the variance of the linear approximation decreases as weight increases and mpg decreases.\n",
    "\n",
    "> **Fig 1.**\n",
    "> This plot shows the relationship between advertisement and revenue. From the plot we can see that there appears to be a relationship between advertisement and revenue.\n",
    "\n",
    "- 3.\n",
    "Although I did not include the magazine brand in the analysis, it could be included to perform a multi-factor regression analysis. To quantify the relationship between the advertisement and revenue be creating a regression model would answer the question of the relationship between advertisement and revenue.\n",
    "\n",
    "- 4.\n",
    "I do not know how to do a multi-factor regression analysis."
   ]
  },
  {
   "cell_type": "code",
   "execution_count": 1,
   "metadata": {},
   "outputs": [],
   "source": [
    "import urllib.request as req\n",
    "import pandas as pd\n",
    "import matplotlib.pyplot as plt \n",
    "import numpy as np\n",
    "import seaborn as sns\n",
    "\n",
    "sns.set(style=\"ticks\", color_codes=True)"
   ]
  },
  {
   "cell_type": "code",
   "execution_count": 4,
   "metadata": {},
   "outputs": [],
   "source": [
    "weight = []\n",
    "mpg = []\n",
    "df=pd.read_csv('~/Desktop/Advertising.csv', sep=',')"
   ]
  },
  {
   "cell_type": "code",
   "execution_count": 6,
   "metadata": {},
   "outputs": [
    {
     "data": {
      "text/plain": [
       "Text(0, 0.5, 'Revenue')"
      ]
     },
     "execution_count": 6,
     "metadata": {},
     "output_type": "execute_result"
    },
    {
     "data": {
      "image/png": "[encoded data removed]",
      "text/plain": [
       "<Figure size 432x288 with 1 Axes>"
      ]
     },
     "metadata": {
      "needs_background": "light"
     },
     "output_type": "display_data"
    }
   ],
   "source": [
    "fit = np.polyfit(df['P'], df['R'], 1)\n",
    "fitted_fn = np.poly1d(fit)\n",
    "\n",
    "plt.plot(df['P'], df['R'], 'o', df['P'], fitted_fn(df['P']), '--k')\n",
    "plt.title('Revenue vs. Pages')\n",
    "plt.xlabel('Pages')\n",
    "plt.ylabel('Revenue')"
   ]
  }
 ],
 "metadata": {
  "kernelspec": {
   "display_name": "stat330",
   "language": "python",
   "name": "stat330"
  },
  "language_info": {
   "codemirror_mode": {
    "name": "ipython",
    "version": 3
   },
   "file_extension": ".py",
   "mimetype": "text/x-python",
   "name": "python",
   "nbconvert_exporter": "python",
   "pygments_lexer": "ipython3",
   "version": "3.6.9"
  }
 },
 "nbformat": 4,
 "nbformat_minor": 2
}
