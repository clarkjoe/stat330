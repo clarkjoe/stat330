{
 "cells": [
  {
   "cell_type": "markdown",
   "metadata": {},
   "source": [
    "### Jospeh Clark\n",
    "#### Stat 330-002\n",
    "#### EDA #1"
   ]
  },
  {
   "cell_type": "markdown",
   "metadata": {},
   "source": [
    "- 1. The main reason for analyzing the data is to determine correlation betwen the weight and mpg of a vehicle. This correlation, if any, is valuable to determine potential revenue loss from an increase of vehicle weight. This loss would derive from a decrease of mpg, which turns away potential consumers.\n",
    "\n",
    "- 2. The data suggests that the relationship between vehicle weight and mpg is linear. There appears to be few outliers, and the outliers that do exist appear to be within reasonable variance. Also, the variance of the linear approximation decreases as weight increases and mpg decreases.\n",
    "\n",
    "> **Fig 1.**\n",
    "> This plot shows the approximate linear relationship between weight and mpg. Note how to x-axis is not zero-based. This could lead to false conclusion when estimating the linear approximation. From the plot we can see that there appears to be a relationship between weight and mpg of a vehicle.\n",
    "\n",
    "- 3.\n",
    "Regression is a suitable statistical method. The goal to extract a relationship from the weight and mpg would be met if a simple regression model were generated.\n",
    "\n",
    "- 4.\n",
    "I do not know how to do a regression analysis on a continious, two-factor, discrete data set."
   ]
  },
  {
   "cell_type": "code",
   "execution_count": 1,
   "metadata": {},
   "outputs": [],
   "source": [
    "import urllib.request as req\n",
    "import pandas as pd\n",
    "import matplotlib.pyplot as plt \n",
    "import numpy as np\n",
    "\n",
    "# specific module for linear regression\n",
    "\n",
    "\n",
    "import pandas as pd #working with data frames\n",
    "# import seaborn as sns #data visualization\n",
    "# import statsmodels.formula.api as smf #fitting regression models\n",
    "import numpy as np #basic math functions"
   ]
  },
  {
   "cell_type": "code",
   "execution_count": 2,
   "metadata": {},
   "outputs": [],
   "source": [
    "weight = []\n",
    "mpg = []\n",
    "for line in req.urlopen('https://mheaton.byu.edu/Courses/Stat330/InClassAnalyses/1%20-%20CarMPG/Data/MPGData.txt'):\n",
    "    str = line.decode('utf-8')\n",
    "    weight.append(str.split(' ')[0])\n",
    "    mpg.append(str.split(' ')[1].replace('\\n', ''))\n"
   ]
  },
  {
   "cell_type": "code",
   "execution_count": 6,
   "metadata": {},
   "outputs": [],
   "source": [
    "df = pd.DataFrame.from_dict({weight[0]: weight[1:], mpg[0]: mpg[1:]})\n",
    "df['Weight'] = pd.to_numeric(df['Weight'])\n",
    "df['MPG'] = pd.to_numeric(df['MPG'])"
   ]
  },
  {
   "cell_type": "code",
   "execution_count": 7,
   "metadata": {},
   "outputs": [
    {
     "data": {
      "text/plain": [
       "Text(0, 0.5, 'MPG')"
      ]
     },
     "execution_count": 7,
     "metadata": {},
     "output_type": "execute_result"
    },
    {
     "data": {
      "image/png": "[encoded data removed]",
      "text/plain": [
       "<Figure size 432x288 with 1 Axes>"
      ]
     },
     "metadata": {
      "needs_background": "light"
     },
     "output_type": "display_data"
    }
   ],
   "source": [
    "fit = np.polyfit(df['Weight'], df['MPG'], 1)\n",
    "fitted_fn = np.poly1d(fit)\n",
    "\n",
    "plt.plot(df['Weight'], df['MPG'], 'o', df['Weight'], fitted_fn(df['Weight']), '--k')\n",
    "plt.title('Wight vs. MPG\\nFig 1.')\n",
    "plt.xlabel('Weight')\n",
    "plt.ylabel('MPG')"
   ]
  },
  {
   "cell_type": "code",
   "execution_count": 8,
   "metadata": {},
   "outputs": [
    {
     "ename": "AttributeError",
     "evalue": "module 'statsmodels' has no attribute 'ols'",
     "output_type": "error",
     "traceback": [
      "\u001b[0;31m---------------------------------------------------------------------------\u001b[0m",
      "\u001b[0;31mAttributeError\u001b[0m                            Traceback (most recent call last)",
      "\u001b[0;32m<ipython-input-8-9b170af8f3ee>\u001b[0m in \u001b[0;36m<module>\u001b[0;34m\u001b[0m\n\u001b[0;32m----> 1\u001b[0;31m \u001b[0mmylm\u001b[0m \u001b[0;34m=\u001b[0m \u001b[0msmf\u001b[0m\u001b[0;34m.\u001b[0m\u001b[0mols\u001b[0m\u001b[0;34m(\u001b[0m\u001b[0mformula\u001b[0m\u001b[0;34m=\u001b[0m\u001b[0;34m'y∼x'\u001b[0m\u001b[0;34m,\u001b[0m \u001b[0mdata\u001b[0m\u001b[0;34m=\u001b[0m\u001b[0mdf\u001b[0m\u001b[0;34m)\u001b[0m\u001b[0;34m.\u001b[0m\u001b[0mfit\u001b[0m\u001b[0;34m(\u001b[0m\u001b[0;34m)\u001b[0m\u001b[0;34m\u001b[0m\u001b[0;34m\u001b[0m\u001b[0m\n\u001b[0m",
      "\u001b[0;31mAttributeError\u001b[0m: module 'statsmodels' has no attribute 'ols'"
     ]
    }
   ],
   "source": [
    "mylm = smf.ols(formula='y∼x', data=df).fit()"
   ]
  },
  {
   "cell_type": "code",
   "execution_count": null,
   "metadata": {},
   "outputs": [],
   "source": []
  }
 ],
 "metadata": {
  "kernelspec": {
   "display_name": "stat330",
   "language": "python",
   "name": "stat330"
  },
  "language_info": {
   "codemirror_mode": {
    "name": "ipython",
    "version": 3
   },
   "file_extension": ".py",
   "mimetype": "text/x-python",
   "name": "python",
   "nbconvert_exporter": "python",
   "pygments_lexer": "ipython3",
   "version": "3.6.9"
  }
 },
 "nbformat": 4,
 "nbformat_minor": 2
}
